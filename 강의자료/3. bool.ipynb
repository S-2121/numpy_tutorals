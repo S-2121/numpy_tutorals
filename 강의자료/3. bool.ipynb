{
 "cells": [
  {
   "cell_type": "code",
   "execution_count": 1,
   "metadata": {},
   "outputs": [],
   "source": [
    "import numpy as np"
   ]
  },
  {
   "cell_type": "markdown",
   "metadata": {},
   "source": [
    "1. numpy 배열 bool 마스킹"
   ]
  },
  {
   "cell_type": "code",
   "execution_count": 4,
   "metadata": {},
   "outputs": [
    {
     "name": "stdout",
     "output_type": "stream",
     "text": [
      "arr1\n",
      " [[6 1 4 4]\n",
      " [8 4 6 3]\n",
      " [5 8 7 9]]\n",
      "arr1>4\n",
      " [[ True False False False]\n",
      " [ True False  True False]\n",
      " [ True  True  True  True]]\n",
      "arr1<7\n",
      " [[ True  True  True  True]\n",
      " [False  True  True  True]\n",
      " [ True False False False]]\n",
      "arr1>4 & arr1<7\n",
      " [[ True False False False]\n",
      " [False False  True False]\n",
      " [ True False False False]]\n",
      "sum arr1>4 & arr1<7\n",
      " 3\n",
      "sum(axis=0) arr1>4 & arr1<7\n",
      " [2 0 1 0]\n",
      "sum(axis=1) arr1>4 & arr1<7\n",
      " [1 1 1]\n",
      "arr1[(arr1 > 4) & (arr1 < 7)]\n",
      " [6 6 5]\n",
      "<class 'numpy.ndarray'>\n",
      "sum arr1>4 | arr1<7\n",
      " 12\n"
     ]
    }
   ],
   "source": [
    "np.random.seed(0) # 랜덤 수 고정\n",
    "\n",
    "arr1 = np.random.randint(1, 10, size=(3,4))\n",
    "\n",
    "print(\"arr1\\n\", arr1)\n",
    "\n",
    "print(\"arr1>4\\n\", (arr1 > 4))\n",
    "print(\"arr1<7\\n\", (arr1 < 7))\n",
    "print(\"arr1>4 & arr1<7\\n\", (arr1 > 4) & (arr1 < 7))\n",
    "\n",
    "print(\"sum arr1>4 & arr1<7\\n\", np.sum((arr1 > 4) & (arr1 < 7)))\n",
    "print(\"sum(axis=0) arr1>4 & arr1<7\\n\", np.sum((arr1 > 4) & (arr1 < 7), axis=0)) # 세로로, row 방향\n",
    "print(\"sum(axis=1) arr1>4 & arr1<7\\n\", np.sum((arr1 > 4) & (arr1 < 7), axis=1)) # 가로로, col 방향\n",
    "\n",
    "print(\"arr1[(arr1 > 4) & (arr1 < 7)]\\n\", arr1[(arr1 > 4) & (arr1 < 7)])\n",
    "print(type(arr1[(arr1 > 4) & (arr1 < 7)]))\n",
    "print(\"sum arr1>4 | arr1<7\\n\", np.sum((arr1 > 4) | (arr1 < 7)))\n"
   ]
  },
  {
   "cell_type": "markdown",
   "metadata": {},
   "source": [
    "2. numpy 배열 where\n",
    "    - numpy 배열 where 예제"
   ]
  },
  {
   "cell_type": "code",
   "execution_count": 29,
   "metadata": {},
   "outputs": [
    {
     "name": "stdout",
     "output_type": "stream",
     "text": [
      "arr1\n",
      " [[6 1 4 4]\n",
      " [8 4 6 3]\n",
      " [5 8 7 9]]\n",
      "arr1>4\n",
      " (array([0, 1, 1, 2, 2, 2, 2], dtype=int64), array([0, 0, 2, 0, 1, 2, 3], dtype=int64))\n",
      "arr1[arr1>4]\n",
      " [6 8 6 5 8 7 9]\n",
      "np.where(arr1>4, np.max(arr1), arr1)\n",
      " [[9 1 4 4]\n",
      " [9 4 9 3]\n",
      " [9 9 9 9]]\n",
      "arr1<7\n",
      " (array([0, 0, 0, 0, 1, 1, 1, 2], dtype=int64), array([0, 1, 2, 3, 1, 2, 3, 0], dtype=int64))\n",
      "arr1[arr1<7]\n",
      " [6 1 4 4 4 6 3 5]\n",
      "np.where(arr1<7, np.min(arr1), arr1)\n",
      " [[1 1 1 1]\n",
      " [8 1 1 1]\n",
      " [1 8 7 9]]\n"
     ]
    }
   ],
   "source": [
    "np.random.seed(0) # 랜덤 수 고정\n",
    "\n",
    "arr1 = np.random.randint(1, 10, size=(3,4))\n",
    "\n",
    "print(\"arr1\\n\", arr1)\n",
    "\n",
    "print(\"arr1>4\\n\", np.where(arr1 > 4))\n",
    "print(\"arr1[arr1>4]\\n\", arr1[np.where(arr1 > 4)])\n",
    "print(\"np.where(arr1>4, np.max(arr1), arr1)\\n\", np.where(arr1 > 4, np.max(arr1), arr1))\n",
    "print(\"arr1<7\\n\", np.where(arr1 < 7))\n",
    "print(\"arr1[arr1<7]\\n\", arr1[np.where(arr1 < 7)])\n",
    "print(\"np.where(arr1<7, np.min(arr1), arr1)\\n\", np.where(arr1 < 7, np.min(arr1), arr1))"
   ]
  },
  {
   "cell_type": "markdown",
   "metadata": {},
   "source": [
    "3. numpy 배열 where 복수 조건"
   ]
  },
  {
   "cell_type": "code",
   "execution_count": 34,
   "metadata": {},
   "outputs": [
    {
     "name": "stdout",
     "output_type": "stream",
     "text": [
      "arr1\n",
      " [[6 1 4 4]\n",
      " [8 4 6 3]\n",
      " [5 8 7 9]]\n",
      "arr1>4\n",
      " (array([0, 1, 1, 2, 2, 2, 2], dtype=int64), array([0, 0, 2, 0, 1, 2, 3], dtype=int64))\n",
      "arr1<7\n",
      " (array([0, 0, 0, 0, 1, 1, 1, 2], dtype=int64), array([0, 1, 2, 3, 1, 2, 3, 0], dtype=int64))\n",
      "arr1>4 & arr1<7\n",
      " (array([0, 1, 2], dtype=int64), array([0, 2, 0], dtype=int64))\n",
      "np.where((arr1>4) & (arr1<7), 0, arr1)\n",
      " [[0 1 4 4]\n",
      " [8 4 0 3]\n",
      " [0 8 7 9]]\n",
      "np.where((arr1>4) | (arr1<7), 0, arr1)\n",
      " [[0 0 0 0]\n",
      " [0 0 0 0]\n",
      " [0 0 0 0]]\n",
      "np.where((arr1<4) | (arr1>7), 0, arr1)\n",
      " [[6 0 4 4]\n",
      " [0 4 6 0]\n",
      " [5 0 7 0]]\n"
     ]
    }
   ],
   "source": [
    "np.random.seed(0) # 랜덤 수 고정\n",
    "\n",
    "arr1 = np.random.randint(1, 10, size=(3,4))\n",
    "\n",
    "print(\"arr1\\n\", arr1)\n",
    "\n",
    "print(\"arr1>4\\n\", np.where(arr1 > 4))\n",
    "print(\"arr1<7\\n\", np.where(arr1 < 7))\n",
    "print(\"arr1>4 & arr1<7\\n\", np.where((arr1 > 4) & (arr1 < 7)))\n",
    "print(\"np.where((arr1>4) & (arr1<7), 0, arr1)\\n\", np.where((arr1 > 4) & (arr1 < 7), 0, arr1))\n",
    "print(\"np.where((arr1>4) | (arr1<7), 0, arr1)\\n\", np.where((arr1 > 4) | (arr1 < 7), 0, arr1))\n",
    "print(\"np.where((arr1<4) | (arr1>7), 0, arr1)\\n\", np.where((arr1 < 4) | (arr1 > 7), 0, arr1))"
   ]
  },
  {
   "cell_type": "markdown",
   "metadata": {},
   "source": [
    "4. numpy 배열 where 심화"
   ]
  },
  {
   "cell_type": "code",
   "execution_count": 6,
   "metadata": {},
   "outputs": [
    {
     "name": "stdout",
     "output_type": "stream",
     "text": [
      "arr1\n",
      " [1 2 3 4 5 6 7 8 9]\n",
      "reshaped_arr1\n",
      " [[1 2 3]\n",
      " [4 5 6]\n",
      " [7 8 9]]\n",
      "np.where((np.sum(reshaped_arr1, axis=0) > 15).reshape(3,-1), reshaped_arr1, 0)\n",
      " [[0 0 0]\n",
      " [0 0 0]\n",
      " [7 8 9]]\n",
      "np.where((np.sum(reshaped_arr1, axis=1) > 10).reshape(3,-1), reshaped_arr1, 0)\n",
      " [[0 0 0]\n",
      " [4 5 6]\n",
      " [7 8 9]]\n",
      "odd_arr\n",
      " [[1 0 3]\n",
      " [0 5 0]\n",
      " [7 0 9]]\n",
      "np.where((np.sum(reshaped_arr1, axis=1) > 10).reshape(3,-1), np.where( reshaped_arr1 % 2 == 1, reshaped_arr1, 0), 0)\n",
      " [[0 0 0]\n",
      " [0 5 0]\n",
      " [7 0 9]]\n"
     ]
    }
   ],
   "source": [
    "arr1 = np.arange(1,10)\n",
    "print(\"arr1\\n\", arr1)\n",
    "\n",
    "reshaped_arr1 = arr1.reshape(-1,3)\n",
    "print(\"reshaped_arr1\\n\", reshaped_arr1)\n",
    "\n",
    "print(\"np.where((np.sum(reshaped_arr1, axis=0) > 15).reshape(3,-1), reshaped_arr1, 0)\\n\", np.where((np.sum(reshaped_arr1, axis=0) > 15).reshape(3,-1), reshaped_arr1, 0))\n",
    "print(\"np.where((np.sum(reshaped_arr1, axis=1) > 10).reshape(3,-1), reshaped_arr1, 0)\\n\", np.where((np.sum(reshaped_arr1, axis=1) > 10).reshape(3,-1), reshaped_arr1, 0))\n",
    "odd_arr = np.where(reshaped_arr1 % 2 == 1, reshaped_arr1, 0)\n",
    "print(\"odd_arr\\n\", odd_arr)\n",
    "print(\"np.where((np.sum(reshaped_arr1, axis=1) > 10).reshape(3,-1), np.where( reshaped_arr1 % 2 == 1, reshaped_arr1, 0), 0)\\n\", np.where((np.sum(reshaped_arr1, axis=1) > 10).reshape(3,-1), odd_arr, 0))"
   ]
  }
 ],
 "metadata": {
  "kernelspec": {
   "display_name": "Python 3",
   "language": "python",
   "name": "python3"
  },
  "language_info": {
   "codemirror_mode": {
    "name": "ipython",
    "version": 3
   },
   "file_extension": ".py",
   "mimetype": "text/x-python",
   "name": "python",
   "nbconvert_exporter": "python",
   "pygments_lexer": "ipython3",
   "version": "3.11.7"
  }
 },
 "nbformat": 4,
 "nbformat_minor": 2
}
