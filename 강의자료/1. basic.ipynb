{
 "cells": [
  {
   "cell_type": "markdown",
   "metadata": {},
   "source": [
    "1. numpy 설치\n",
    "\n",
    "    - Python에서 수치 계산을 위한 라이브러리\n",
    "    - 특징 : 다차원 배열 객체(ndarray)와 다양한 수학 함수를 제공\n",
    "    - 장점 : 빠르고 효율적인 배열 연산, 많은 과학 및 엔지니어링 애플리케이션에서 활용"
   ]
  },
  {
   "cell_type": "code",
   "execution_count": 1,
   "metadata": {},
   "outputs": [
    {
     "name": "stdout",
     "output_type": "stream",
     "text": [
      "Requirement already satisfied: numpy in c:\\users\\skfmj\\appdata\\local\\programs\\python\\python311\\lib\\site-packages (1.26.3)\n",
      "Note: you may need to restart the kernel to use updated packages.\n"
     ]
    }
   ],
   "source": [
    "pip install numpy"
   ]
  },
  {
   "cell_type": "markdown",
   "metadata": {},
   "source": [
    "2. numpy 배열 생성 방법"
   ]
  },
  {
   "cell_type": "code",
   "execution_count": 4,
   "metadata": {},
   "outputs": [
    {
     "name": "stdout",
     "output_type": "stream",
     "text": [
      "[1 2 3 4 5]\n",
      "<class 'numpy.ndarray'>\n"
     ]
    }
   ],
   "source": [
    "import numpy as np\n",
    "a = np.array([1, 2, 3, 4, 5])\n",
    "print(a)  # 출력: [1 2 3 4 5]\n",
    "print(type(a))"
   ]
  },
  {
   "cell_type": "code",
   "execution_count": 4,
   "metadata": {},
   "outputs": [
    {
     "name": "stdout",
     "output_type": "stream",
     "text": [
      "zeros\n",
      " [[0. 0. 0.]\n",
      " [0. 0. 0.]]\n",
      "ones\n",
      " [[1. 1. 1.]\n",
      " [1. 1. 1.]]\n",
      "full\n",
      " [[7 7 7]\n",
      " [7 7 7]]\n",
      "arange\n",
      " [0 2 4 6 8]\n",
      "linspace\n",
      " [0.   0.25 0.5  0.75 1.  ]\n"
     ]
    }
   ],
   "source": [
    "zeros = np.zeros((2, 3))        # 0으로 채워진 2x3 배열\n",
    "ones = np.ones((2, 3))          # 1로 채워진 2x3 배열\n",
    "full = np.full((2, 3), 7)       # 7로 채워진 2x3 배열\n",
    "arange = np.arange(0, 10, 2)    # 0부터 10까지 2 간격으로 배열 생성\n",
    "linspace = np.linspace(0, 1, 5) # 0부터 1까지 균등 간격으로 5개의 값 생성\n",
    "\n",
    "print(\"zeros\\n\", zeros)\n",
    "print(\"ones\\n\", ones)\n",
    "print(\"full\\n\", full)\n",
    "print(\"arange\\n\", arange)\n",
    "print(\"linspace\\n\", linspace)\n"
   ]
  },
  {
   "cell_type": "code",
   "execution_count": 5,
   "metadata": {},
   "outputs": [
    {
     "name": "stdout",
     "output_type": "stream",
     "text": [
      "random\n",
      " [[0.50026895 0.57628871 0.27748006]\n",
      " [0.43091519 0.90290906 0.29582819]\n",
      " [0.59008521 0.45067202 0.98154955]]\n",
      "random_int\n",
      " [[7 3 8]\n",
      " [7 4 8]\n",
      " [5 4 9]]\n"
     ]
    }
   ],
   "source": [
    "random_array = np.random.rand(3, 3)  # 0과 1 사이의 랜덤 값으로 채워진 3x3 배열\n",
    "random_int_array = np.random.randint(0, 10, (3, 3))  # 0부터 9 사이의 랜덤 정수로 채워진 3x3 배열\n",
    "\n",
    "print(\"random\\n\", random_array)\n",
    "print(\"random_int\\n\", random_int_array)\n"
   ]
  },
  {
   "cell_type": "markdown",
   "metadata": {},
   "source": [
    "3. numpy 배열 자료형 설정 및 변환"
   ]
  },
  {
   "cell_type": "code",
   "execution_count": 19,
   "metadata": {},
   "outputs": [
    {
     "name": "stdout",
     "output_type": "stream",
     "text": [
      "float\n",
      " [1. 2. 3.]\n",
      "int\n",
      " [1 2 3]\n"
     ]
    }
   ],
   "source": [
    "float_array = np.array([1, 2, 3], dtype=float)\n",
    "print(\"float\\n\", float_array)\n",
    "\n",
    "# 0.x 소수점은 모두 반내림, technic\n",
    "int_array = float_array.astype(int)\n",
    "print(\"int\\n\", int_array)"
   ]
  },
  {
   "cell_type": "markdown",
   "metadata": {},
   "source": [
    "4. numpy 배열의 속성 확인"
   ]
  },
  {
   "cell_type": "code",
   "execution_count": 7,
   "metadata": {},
   "outputs": [
    {
     "name": "stdout",
     "output_type": "stream",
     "text": [
      "(2, 3)\n",
      "6\n",
      "int32\n",
      "2\n"
     ]
    }
   ],
   "source": [
    "a = np.array([[1, 2, 3], [4, 5, 6]])\n",
    "print(a.shape)  # 배열의 형태 (2, 3)\n",
    "print(a.size)   # 배열의 요소 개수 6\n",
    "print(a.dtype)  # 배열의 자료형 int32\n",
    "print(a.ndim)   # 배열의 차원 2\n",
    "\n"
   ]
  },
  {
   "cell_type": "markdown",
   "metadata": {},
   "source": [
    "5. numpy 배열의 요소 접근 및 수정"
   ]
  },
  {
   "cell_type": "code",
   "execution_count": 22,
   "metadata": {},
   "outputs": [
    {
     "name": "stdout",
     "output_type": "stream",
     "text": [
      "a = \n",
      " [[1 2 3]\n",
      " [4 5 6]]\n",
      "1\n",
      "6\n",
      "a = \n",
      " [[10  2  3]\n",
      " [ 4  5  6]]\n"
     ]
    }
   ],
   "source": [
    "print(\"a = \\n\", a)\n",
    "print(a[0, 0])  # 첫 번째 행, 첫 번째 열 요소 접근\n",
    "print(a[1, 2])  # 두 번째 행, 세 번째 열 요소 접근\n",
    "\n",
    "a[0, 0] = 10    # 첫 번째 행, 첫 번째 열 요소 수정\n",
    "print(\"a = \\n\", a) \n"
   ]
  },
  {
   "cell_type": "markdown",
   "metadata": {},
   "source": [
    "6. numpy 배열 기본 연산"
   ]
  },
  {
   "cell_type": "code",
   "execution_count": 16,
   "metadata": {},
   "outputs": [
    {
     "name": "stdout",
     "output_type": "stream",
     "text": [
      "a + b = [5 7 9]\n",
      "a - b = [-3 -3 -3]\n",
      "a * b = [ 4 10 18]\n",
      "a / b = [0.25 0.4  0.5 ]\n"
     ]
    }
   ],
   "source": [
    "a = np.array([1, 2, 3])\n",
    "b = np.array([4, 5, 6])\n",
    "\n",
    "print(\"a + b =\", a + b)  # 출력: [5 7 9]\n",
    "print(\"a - b =\", a - b)  # 출력: [-3 -3 -3]\n",
    "print(\"a * b =\", a * b)  # 출력: [ 4 10 18]\n",
    "print(\"a / b =\", a / b)  # 출력: [0.25 0.4  0.5 ]\n"
   ]
  },
  {
   "cell_type": "markdown",
   "metadata": {},
   "source": [
    "7. numpy 배열과 스칼라 값 연산"
   ]
  },
  {
   "cell_type": "code",
   "execution_count": 17,
   "metadata": {},
   "outputs": [
    {
     "name": "stdout",
     "output_type": "stream",
     "text": [
      "[11 12 13]\n",
      "[2 4 6]\n"
     ]
    }
   ],
   "source": [
    "a = np.array([1, 2, 3])\n",
    "\n",
    "print(a + 10)  # 출력: [11 12 13]\n",
    "print(a * 2)   # 출력: [2 4 6]\n"
   ]
  },
  {
   "cell_type": "markdown",
   "metadata": {},
   "source": [
    "8. numpy 기타 함수"
   ]
  },
  {
   "cell_type": "code",
   "execution_count": 18,
   "metadata": {},
   "outputs": [
    {
     "name": "stdout",
     "output_type": "stream",
     "text": [
      "15\n",
      "3.0\n",
      "5\n",
      "1\n",
      "1.4142135623730951\n"
     ]
    }
   ],
   "source": [
    "a = np.array([1, 2, 3, 4, 5])\n",
    "\n",
    "print(np.sum(a))   # 배열 요소의 합\n",
    "print(np.mean(a))  # 배열 요소의 평균\n",
    "print(np.max(a))   # 배열 요소의 최대값\n",
    "print(np.min(a))   # 배열 요소의 최소값\n",
    "print(np.std(a))   # 배열 요소의 표준편차\n"
   ]
  }
 ],
 "metadata": {
  "kernelspec": {
   "display_name": "Python 3",
   "language": "python",
   "name": "python3"
  },
  "language_info": {
   "codemirror_mode": {
    "name": "ipython",
    "version": 3
   },
   "file_extension": ".py",
   "mimetype": "text/x-python",
   "name": "python",
   "nbconvert_exporter": "python",
   "pygments_lexer": "ipython3",
   "version": "3.11.7"
  }
 },
 "nbformat": 4,
 "nbformat_minor": 2
}
