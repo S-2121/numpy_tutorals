{
 "cells": [
  {
   "cell_type": "code",
   "execution_count": 37,
   "metadata": {},
   "outputs": [],
   "source": [
    "import numpy as np"
   ]
  },
  {
   "cell_type": "markdown",
   "metadata": {},
   "source": [
    "1. numpy 배열 인덱싱\n",
    "\n",
    "    - numpy 다차원 배열 인덱싱 예제"
   ]
  },
  {
   "cell_type": "code",
   "execution_count": 5,
   "metadata": {},
   "outputs": [
    {
     "name": "stdout",
     "output_type": "stream",
     "text": [
      "arr1\n",
      " [5 0 3 3 7 9]\n",
      "arr1[0], arr1[-1]\n",
      " 5 9\n",
      "arr2\n",
      " [[3 5 2]\n",
      " [4 7 6]]\n",
      "arr2[0,0], arr2[0,2]\n",
      " 3 2\n",
      "arr2[0,-1], arr2[-1,2]\n",
      " 2 6\n"
     ]
    }
   ],
   "source": [
    "np.random.seed(0) # 랜덤 수 고정\n",
    "\n",
    "arr1 = np.random.randint(10, size=6)\n",
    "arr2 = np.random.randint(10, size=(2,3))\n",
    "\n",
    "print(\"arr1\\n\", arr1)\n",
    "print(\"arr1[0], arr1[-1]\\n\", arr1[0], arr1[-1])\n",
    "\n",
    "print(\"arr2\\n\", arr2)\n",
    "print(\"arr2[0,0], arr2[0,2]\\n\", arr2[0,0], arr2[0,2])\n",
    "print(\"arr2[0,-1], arr2[-1,2]\\n\", arr2[0,-1], arr2[-1,2])\n",
    "\n"
   ]
  },
  {
   "cell_type": "code",
   "execution_count": 11,
   "metadata": {},
   "outputs": [
    {
     "name": "stdout",
     "output_type": "stream",
     "text": [
      "arr2[0,2]\n",
      " [5 7]\n"
     ]
    }
   ],
   "source": [
    "print(\"arr2[0,2]\\n\", arr2[:,1])"
   ]
  },
  {
   "cell_type": "code",
   "execution_count": 20,
   "metadata": {},
   "outputs": [
    {
     "name": "stdout",
     "output_type": "stream",
     "text": [
      "5 7\n"
     ]
    }
   ],
   "source": [
    "(arr2_int1, arr2_int2) = arr2[:,1]\n",
    "print(arr2_int1, arr2_int2)"
   ]
  },
  {
   "cell_type": "markdown",
   "metadata": {},
   "source": [
    "2. numpy 배열 슬라이싱\n",
    "    - numpy 배열 슬라이싱 예제"
   ]
  },
  {
   "cell_type": "code",
   "execution_count": 22,
   "metadata": {},
   "outputs": [
    {
     "name": "stdout",
     "output_type": "stream",
     "text": [
      "arr1\n",
      " [0 1 2 3 4 5 6 7 8 9]\n",
      "arr1[0:5:1]\n",
      " [0 1 2 3 4]\n",
      "arr1[:5:]\n",
      " [0 1 2 3 4]\n",
      "arr1[5::2]\n",
      " [5 7 9]\n",
      "arr1[5:-1:2]\n",
      " [5 7]\n",
      "arr1[::-1]\n",
      " [9 8 7 6 5 4 3 2 1 0]\n",
      "arr1[-2:-6:-2]\n",
      " [8 6]\n"
     ]
    }
   ],
   "source": [
    "arr1 = np.arange(10)\n",
    "print(\"arr1\\n\", arr1)\n",
    "\n",
    "print(\"arr1[0:5:1]\\n\", arr1[0:5:1])\n",
    "print(\"arr1[:5:]\\n\", arr1[:5:])\n",
    "\n",
    "print(\"arr1[5::2]\\n\", arr1[5::2])\n",
    "print(\"arr1[5:-1:2]\\n\", arr1[5:-1:2])\n",
    "\n",
    "print(\"arr1[::-1]\\n\", arr1[::-1])\n",
    "print(\"arr1[-2:-6:-2]\\n\", arr1[-2:-6:-2])"
   ]
  },
  {
   "cell_type": "code",
   "execution_count": 29,
   "metadata": {},
   "outputs": [
    {
     "name": "stdout",
     "output_type": "stream",
     "text": [
      "arr1\n",
      " [0 1 2 3 4 5 6 7 8 9]\n",
      "[4 5 6]\n",
      "[4 5 6]\n"
     ]
    }
   ],
   "source": [
    "print(\"arr1\\n\", arr1)\n",
    "print(arr1[4:7])\n",
    "print(arr1[-6:-3])"
   ]
  },
  {
   "cell_type": "code",
   "execution_count": 34,
   "metadata": {},
   "outputs": [
    {
     "name": "stdout",
     "output_type": "stream",
     "text": [
      "[3 4 5 6]\n"
     ]
    }
   ],
   "source": [
    "index_start = int(len(arr1)/3)\n",
    "\n",
    "print(arr1[index_start:index_start*-1])"
   ]
  },
  {
   "cell_type": "code",
   "execution_count": 39,
   "metadata": {},
   "outputs": [
    {
     "name": "stdout",
     "output_type": "stream",
     "text": [
      "arr2\n",
      " (12,)\n",
      "reshaped_arr2\n",
      " (4, 3)\n",
      "reshaped_arr2_ver2\n",
      " (4, 3)\n",
      "reshaped_arr2_ver3\n",
      " (3, 4)\n",
      "reshaped_arr2_ver2\n",
      " [[ 0  1  2]\n",
      " [ 3  4  5]\n",
      " [ 6  7  8]\n",
      " [ 9 10 11]]\n",
      "reshaped_arr2_ver2[:2,:2]\n",
      " [[0 1]\n",
      " [3 4]]\n",
      "reshaped_arr2_ver2[1:3,:2]\n",
      " [[3 4]\n",
      " [6 7]]\n",
      "reshaped_arr2_ver2[1:-1,1:-1]\n",
      " [[4]\n",
      " [7]]\n",
      "reshaped_arr2_ver2[-1:,:]\n",
      " [[ 9 10 11]]\n",
      "reshaped_arr2_ver2[-1]\n",
      " [ 9 10 11]\n"
     ]
    }
   ],
   "source": [
    "arr2 = np.arange(12)\n",
    "print(\"arr2\\n\", arr2.shape)\n",
    "\n",
    "reshaped_arr2 = arr2.reshape(4,3)\n",
    "print(\"reshaped_arr2\\n\", reshaped_arr2.shape)\n",
    "\n",
    "reshaped_arr2_ver2 = arr2.reshape(-1,3)\n",
    "print(\"reshaped_arr2_ver2\\n\", reshaped_arr2_ver2.shape)\n",
    "\n",
    "reshaped_arr2_ver3 = arr2.reshape(3,-1)\n",
    "print(\"reshaped_arr2_ver3\\n\", reshaped_arr2_ver3.shape)\n",
    "\n",
    "print(\"reshaped_arr2_ver2\\n\", reshaped_arr2_ver2)\n",
    "print(\"reshaped_arr2_ver2[:2,:2]\\n\", reshaped_arr2_ver2[:2,:2])\n",
    "print(\"reshaped_arr2_ver2[1:3,:2]\\n\", reshaped_arr2_ver2[1:3,:2])\n",
    "print(\"reshaped_arr2_ver2[1:-1,1:-1]\\n\", reshaped_arr2_ver2[1:-1,1:-1])\n",
    "print(\"reshaped_arr2_ver2[-1:,:]\\n\", reshaped_arr2_ver2[-1:,:]) # 슬라이싱은 [[]]\n",
    "print(\"reshaped_arr2_ver2[-1]\\n\", reshaped_arr2_ver2[-1]) # 인덱싱은 []"
   ]
  },
  {
   "cell_type": "code",
   "execution_count": 45,
   "metadata": {},
   "outputs": [
    {
     "name": "stdout",
     "output_type": "stream",
     "text": [
      "arr2_try_reshape_1:\n",
      " [[ 0  1  2  3  4  5]\n",
      " [ 6  7  8  9 10 11]]\n",
      "arr2_try_reshape_2:\n",
      " [[ 0  1  2  3  4  5]\n",
      " [ 6  7  8  9 10 11]]\n",
      "arr2_try_reshape_3:\n",
      " [[ 0  1  2  3  4  5]\n",
      " [ 6  7  8  9 10 11]]\n"
     ]
    }
   ],
   "source": [
    "arr2_try = np.arange(12)\n",
    "arr2_try_reshape_1 = arr2_try.reshape(2,6)\n",
    "arr2_try_reshape_2 = arr2_try.reshape(-1,6)\n",
    "arr2_try_reshape_3 = arr2_try.reshape(2,-1)\n",
    "print(\"arr2_try_reshape_1:\\n\", arr2_try_reshape_1)\n",
    "print(\"arr2_try_reshape_2:\\n\", arr2_try_reshape_2)\n",
    "print(\"arr2_try_reshape_3:\\n\", arr2_try_reshape_3)"
   ]
  },
  {
   "cell_type": "markdown",
   "metadata": {},
   "source": [
    "3. numpy 배열 팬시 인덱싱"
   ]
  },
  {
   "cell_type": "code",
   "execution_count": 59,
   "metadata": {},
   "outputs": [
    {
     "name": "stdout",
     "output_type": "stream",
     "text": [
      "arr_1\n",
      " [[ 0  1  2  3]\n",
      " [ 4  5  6  7]\n",
      " [ 8  9 10 11]]\n",
      "row\n",
      " [0 1 2]\n",
      "col\n",
      " [1 2 3]\n",
      "arr_1[row]\n",
      " [[ 0  1  2  3]\n",
      " [ 4  5  6  7]\n",
      " [ 8  9 10 11]]\n",
      "arr_1[:,col]\n",
      " [[ 1  2  3]\n",
      " [ 5  6  7]\n",
      " [ 9 10 11]]\n",
      "arr_1[row,col]\n",
      " [ 1  6 11]\n",
      "row.reshape(-1,1)\n",
      " [[0]\n",
      " [1]\n",
      " [2]]\n",
      "arr_1[row.reshape(-1,1),col]\n",
      " [[ 1  2  3]\n",
      " [ 5  6  7]\n",
      " [ 9 10 11]]\n"
     ]
    }
   ],
   "source": [
    "arr_1 = np.arange(12).reshape((3,4))\n",
    "print(\"arr_1\\n\",arr_1)\n",
    "\n",
    "row = np.arange(3)\n",
    "col = np.arange(1, 4)\n",
    "\n",
    "print(\"row\\n\", row)\n",
    "print(\"col\\n\", col)\n",
    "\n",
    "print(\"arr_1[row]\\n\", arr_1[row])\n",
    "print(\"arr_1[:,col]\\n\", arr_1[:,col])\n",
    "print(\"arr_1[row,col]\\n\", arr_1[row,col]) # 행렬 계산\n",
    "\n",
    "print(\"row.reshape(-1,1)\\n\", row.reshape(-1,1))\n",
    "print(\"arr_1[row.reshape(-1,1),col]\\n\", arr_1[row.reshape(-1,1),col])"
   ]
  },
  {
   "cell_type": "code",
   "execution_count": 61,
   "metadata": {},
   "outputs": [
    {
     "name": "stdout",
     "output_type": "stream",
     "text": [
      "[[ 0  1  2  3]\n",
      " [ 4  5  6  7]\n",
      " [ 8  9 10 11]\n",
      " [12 13 14 15]]\n",
      "[[1]\n",
      " [2]]\n",
      "[[1]\n",
      " [2]]\n",
      "array_try[row,col]\n",
      " [[ 5  6]\n",
      " [ 9 10]]\n"
     ]
    }
   ],
   "source": [
    "# 어레인지 16, 4,4\n",
    "array_try = np.arange(16).reshape(4,-1)\n",
    "print(array_try)\n",
    "\n",
    "\n",
    "row = np.arange(1,3)\n",
    "col = np.arange(1,3)\n",
    "print(row.reshape(-1,1))\n",
    "print(col.reshape(-1,1))\n",
    "\n",
    "print(\"array_try[row,col]\\n\", array_try[row.reshape(-1,1),col])"
   ]
  },
  {
   "cell_type": "markdown",
   "metadata": {},
   "source": [
    "4. numpy 배열의 복합 인덱싱"
   ]
  },
  {
   "cell_type": "code",
   "execution_count": 62,
   "metadata": {},
   "outputs": [
    {
     "name": "stdout",
     "output_type": "stream",
     "text": [
      "arr_1\n",
      " [[0. 0. 0. 0.]\n",
      " [0. 0. 0. 0.]\n",
      " [0. 0. 0. 0.]]\n",
      "arr_1\n",
      " [[0. 1. 0. 0.]\n",
      " [0. 0. 0. 0.]\n",
      " [0. 0. 0. 0.]]\n",
      "arr_1\n",
      " [[0. 1. 0. 0.]\n",
      " [0. 2. 0. 2.]\n",
      " [0. 0. 0. 0.]]\n",
      "arr_1\n",
      " [[0. 1. 3. 0.]\n",
      " [0. 2. 0. 2.]\n",
      " [0. 0. 0. 3.]]\n",
      "arr_1\n",
      " [[0. 0. 0. 0.]\n",
      " [0. 0. 0. 0.]\n",
      " [0. 0. 0. 0.]]\n",
      "arr_1\n",
      " [[0. 0. 0. 0.]\n",
      " [0. 0. 3. 3.]\n",
      " [0. 0. 0. 0.]]\n",
      "arr_1\n",
      " [[0. 4. 4. 0.]\n",
      " [0. 0. 3. 3.]\n",
      " [0. 4. 4. 0.]]\n"
     ]
    }
   ],
   "source": [
    "arr_1 = np.zeros(12).reshape((3,4))\n",
    "print(\"arr_1\\n\", arr_1)\n",
    "\n",
    "arr_1[0,1] = 1\n",
    "print(\"arr_1\\n\", arr_1)\n",
    "\n",
    "arr_1[1,[1,3]] = 2\n",
    "print(\"arr_1\\n\", arr_1)\n",
    "\n",
    "arr_1[[0,2],[2,3]] = 3\n",
    "print(\"arr_1\\n\", arr_1)\n",
    "\n",
    "arr_1 = np.zeros(12).reshape((3,4))\n",
    "print(\"arr_1\\n\", arr_1)\n",
    "\n",
    "arr_1[1:-1,[2,3]] = 3\n",
    "print(\"arr_1\\n\", arr_1)\n",
    "\n",
    "arr_1[[0,2],1:3] = 4\n",
    "print(\"arr_1\\n\", arr_1)\n"
   ]
  }
 ],
 "metadata": {
  "kernelspec": {
   "display_name": "Python 3",
   "language": "python",
   "name": "python3"
  },
  "language_info": {
   "codemirror_mode": {
    "name": "ipython",
    "version": 3
   },
   "file_extension": ".py",
   "mimetype": "text/x-python",
   "name": "python",
   "nbconvert_exporter": "python",
   "pygments_lexer": "ipython3",
   "version": "3.11.7"
  }
 },
 "nbformat": 4,
 "nbformat_minor": 2
}
